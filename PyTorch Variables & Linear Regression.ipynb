{
 "cells": [
  {
   "cell_type": "markdown",
   "metadata": {},
   "source": [
    "## PyTorch Variables"
   ]
  },
  {
   "cell_type": "code",
   "execution_count": 2,
   "metadata": {},
   "outputs": [],
   "source": [
    "import torch\n",
    "from torch.autograd import Variable"
   ]
  },
  {
   "cell_type": "code",
   "execution_count": 3,
   "metadata": {},
   "outputs": [
    {
     "data": {
      "text/plain": [
       "tensor([1., 1., 1.], requires_grad=True)"
      ]
     },
     "execution_count": 3,
     "metadata": {},
     "output_type": "execute_result"
    }
   ],
   "source": [
    "# define variable\n",
    "var = Variable(torch.ones(3), requires_grad = True)\n",
    "var"
   ]
  },
  {
   "cell_type": "markdown",
   "metadata": {},
   "source": [
    "\n",
    "\n",
    "    Assume we have equation y = x^2\n",
    "    Define x = [2,4] variable\n",
    "    After calculation we find that y = [4,16] (y = x^2)\n",
    "    Recap o equation is that o = (1/2)sum(y) = (1/2)sum(x^2)\n",
    "    deriavative of o = x\n",
    "    Result is equal to x so gradients are [2,4]\n",
    "    Lets implement\n",
    "\n"
   ]
  },
  {
   "cell_type": "code",
   "execution_count": 4,
   "metadata": {},
   "outputs": [
    {
     "name": "stdout",
     "output_type": "stream",
     "text": [
      " y =   tensor([ 4., 16.], grad_fn=<PowBackward0>)\n",
      " o =   tensor(10., grad_fn=<MulBackward>)\n",
      "gradients:  tensor([2., 4.])\n"
     ]
    }
   ],
   "source": [
    "# lets make basic backward propagation\n",
    "# we have an equation that is y = x^2\n",
    "array = [2,4]\n",
    "tensor = torch.Tensor(array)\n",
    "x = Variable(tensor, requires_grad = True)\n",
    "y = x**2\n",
    "print(\" y =  \",y)\n",
    "\n",
    "# recap o equation o = 1/2*sum(y)\n",
    "o = (1/2)*sum(y)\n",
    "print(\" o =  \",o)\n",
    "\n",
    "# backward\n",
    "o.backward() # calculates gradients\n",
    "\n",
    "# As I defined, variables accumulates gradients. In this part there is only one variable x.\n",
    "# Therefore variable x should be have gradients\n",
    "# Lets look at gradients with x.grad\n",
    "print(\"gradients: \",x.grad)"
   ]
  },
  {
   "cell_type": "markdown",
   "metadata": {},
   "source": [
    "### Linear Regression\n",
    "\n",
    "    Detailed linear regression tutorial is in my machine learning tutorial in part \"Regression\". I will not explain it in here detailed.\n",
    "    Linear Regression tutorial: https://www.kaggle.com/kanncaa1/machine-learning-tutorial-for-beginners\n",
    "    y = Ax + B.\n",
    "        A = slope of curve\n",
    "        B = bias (point that intersect y-axis)\n",
    "    For example, we have car company. If the car price is low, we sell more car. If the car price is high, we sell less car. This is the fact that we know and we have data set about this fact.\n",
    "    The question is that what will be number of car sell if the car price is 100.\n"
   ]
  },
  {
   "cell_type": "code",
   "execution_count": 6,
   "metadata": {},
   "outputs": [],
   "source": [
    "import numpy as np\n",
    "# As a car company we collect this data from previous selling\n",
    "# lets define car prices\n",
    "car_prices_array = [3,4,5,6,7,8,9]\n",
    "car_price_np = np.array(car_prices_array,dtype=np.float32)\n",
    "car_price_np = car_price_np.reshape(-1,1)\n",
    "car_price_tensor = Variable(torch.from_numpy(car_price_np))\n",
    "\n",
    "# lets define number of car sell\n",
    "number_of_car_sell_array = [ 7.5, 7, 6.5, 6.0, 5.5, 5.0, 4.5]\n",
    "number_of_car_sell_np = np.array(number_of_car_sell_array,dtype=np.float32)\n",
    "number_of_car_sell_np = number_of_car_sell_np.reshape(-1,1)\n",
    "number_of_car_sell_tensor = Variable(torch.from_numpy(number_of_car_sell_np))"
   ]
  },
  {
   "cell_type": "code",
   "execution_count": 8,
   "metadata": {},
   "outputs": [
    {
     "data": {
      "image/png": "[encoded data removed]",
      "text/plain": [
       "<Figure size 432x288 with 1 Axes>"
      ]
     },
     "metadata": {
      "needs_background": "light"
     },
     "output_type": "display_data"
    }
   ],
   "source": [
    "# lets visualize our data\n",
    "import matplotlib.pyplot as plt\n",
    "plt.scatter(car_prices_array,number_of_car_sell_array)\n",
    "plt.xlabel(\"Car Price $\")\n",
    "plt.ylabel(\"Number of Car Sell\")\n",
    "plt.title(\"Car Price$ VS Number of Car Sell\")\n",
    "plt.show()"
   ]
  },
  {
   "cell_type": "markdown",
   "metadata": {},
   "source": [
    "   * Now this plot is our collected data\n",
    "   * We have a question that is what will be number of car sell if the car price is 100$\n",
    "   * In order to solve this question we need to use linear regression.\n",
    "   * We need to line fit into this data. Aim is fitting line with minimum error.\n",
    "   * Steps of Linear Regression\n",
    "        - create LinearRegression class\n",
    "        - define model from this LinearRegression class\n",
    "        - MSE: Mean squared error\n",
    "        - Optimization (SGD:stochastic gradient descent)\n",
    "        - Backpropagation\n",
    "        - Prediction\n",
    "   * Lets implement it with Pytorch\n",
    "\n"
   ]
  },
  {
   "cell_type": "code",
   "execution_count": 9,
   "metadata": {},
   "outputs": [
    {
     "name": "stdout",
     "output_type": "stream",
     "text": [
      "epoch 0, loss 9.497756958007812\n",
      "epoch 50, loss 6.397879600524902\n",
      "epoch 100, loss 4.323315143585205\n",
      "epoch 150, loss 2.9214444160461426\n",
      "epoch 200, loss 1.974142074584961\n",
      "epoch 250, loss 1.3340115547180176\n",
      "epoch 300, loss 0.9014477729797363\n",
      "epoch 350, loss 0.6091451644897461\n",
      "epoch 400, loss 0.41162484884262085\n",
      "epoch 450, loss 0.27815207839012146\n",
      "epoch 500, loss 0.18795903027057648\n",
      "epoch 550, loss 0.12701189517974854\n",
      "epoch 600, loss 0.08582725375890732\n",
      "epoch 650, loss 0.05799693614244461\n",
      "epoch 700, loss 0.03919119015336037\n",
      "epoch 750, loss 0.02648312970995903\n",
      "epoch 800, loss 0.017895642668008804\n",
      "epoch 850, loss 0.01209272537380457\n",
      "epoch 900, loss 0.008171671070158482\n",
      "epoch 950, loss 0.005522027611732483\n",
      "epoch 1000, loss 0.0037314582150429487\n"
     ]
    },
    {
     "data": {
      "image/png": "[encoded data removed]",
      "text/plain": [
       "<Figure size 432x288 with 1 Axes>"
      ]
     },
     "metadata": {
      "needs_background": "light"
     },
     "output_type": "display_data"
    }
   ],
   "source": [
    "# Linear Regression with Pytorch\n",
    "\n",
    "# libraries\n",
    "import torch      \n",
    "from torch.autograd import Variable     \n",
    "import torch.nn as nn \n",
    "import warnings\n",
    "warnings.filterwarnings(\"ignore\")\n",
    "\n",
    "# create class\n",
    "class LinearRegression(nn.Module):\n",
    "    def __init__(self,input_size,output_size):\n",
    "        # super function. It inherits from nn.Module and we can access everythink in nn.Module\n",
    "        super(LinearRegression,self).__init__()\n",
    "        # Linear function.\n",
    "        self.linear = nn.Linear(input_dim,output_dim)\n",
    "\n",
    "    def forward(self,x):\n",
    "        return self.linear(x)\n",
    "    \n",
    "# define model\n",
    "input_dim = 1\n",
    "output_dim = 1\n",
    "model = LinearRegression(input_dim,output_dim) # input and output size are 1\n",
    "\n",
    "# MSE\n",
    "mse = nn.MSELoss()\n",
    "\n",
    "# Optimization (find parameters that minimize error)\n",
    "learning_rate = 0.02   # how fast we reach best parameters\n",
    "optimizer = torch.optim.SGD(model.parameters(),lr = learning_rate)\n",
    "\n",
    "# train model\n",
    "loss_list = []\n",
    "iteration_number = 1001\n",
    "for iteration in range(iteration_number):\n",
    "        \n",
    "    # optimization\n",
    "    optimizer.zero_grad() \n",
    "    \n",
    "    # Forward to get output\n",
    "    results = model(car_price_tensor)\n",
    "    \n",
    "    # Calculate Loss\n",
    "    loss = mse(results, number_of_car_sell_tensor)\n",
    "    \n",
    "    # backward propagation\n",
    "    loss.backward()\n",
    "    \n",
    "    # Updating parameters\n",
    "    optimizer.step()\n",
    "    \n",
    "    # store loss\n",
    "    loss_list.append(loss.data)\n",
    "    \n",
    "    # print loss\n",
    "    if(iteration % 50 == 0):\n",
    "        print('epoch {}, loss {}'.format(iteration, loss.data))\n",
    "\n",
    "plt.plot(range(iteration_number),loss_list)\n",
    "plt.xlabel(\"Number of Iterations\")\n",
    "plt.ylabel(\"Loss\")\n",
    "plt.show()"
   ]
  },
  {
   "cell_type": "markdown",
   "metadata": {},
   "source": [
    "    * Number of iteration is 1001.\n",
    "    * Loss is almost zero that you can see from plot or loss in epoch number 1000.\n",
    "    * Now we have a trained model.\n",
    "    * While usign trained model, lets predict car prices.\n",
    "\n"
   ]
  },
  {
   "cell_type": "code",
   "execution_count": 10,
   "metadata": {},
   "outputs": [
    {
     "data": {
      "image/png": "[encoded data removed]",
      "text/plain": [
       "<Figure size 432x288 with 1 Axes>"
      ]
     },
     "metadata": {
      "needs_background": "light"
     },
     "output_type": "display_data"
    }
   ],
   "source": [
    "# predict our car price \n",
    "predicted = model(car_price_tensor).data.numpy()\n",
    "plt.scatter(car_prices_array,number_of_car_sell_array,label = \"original data\",color =\"red\")\n",
    "plt.scatter(car_prices_array,predicted,label = \"predicted data\",color =\"blue\")\n",
    "\n",
    "# predict if car price is 10$, what will be the number of car sell\n",
    "#predicted_10 = model(torch.from_numpy(np.array([10]))).data.numpy()\n",
    "#plt.scatter(10,predicted_10.data,label = \"car price 10$\",color =\"green\")\n",
    "plt.legend()\n",
    "plt.xlabel(\"Car Price $\")\n",
    "plt.ylabel(\"Number of Car Sell\")\n",
    "plt.title(\"Original vs Predicted values\")\n",
    "plt.show()"
   ]
  },
  {
   "cell_type": "code",
   "execution_count": null,
   "metadata": {},
   "outputs": [],
   "source": []
  }
 ],
 "metadata": {
  "kernelspec": {
   "display_name": "Python [default]",
   "language": "python",
   "name": "python3"
  },
  "language_info": {
   "codemirror_mode": {
    "name": "ipython",
    "version": 3
   },
   "file_extension": ".py",
   "mimetype": "text/x-python",
   "name": "python",
   "nbconvert_exporter": "python",
   "pygments_lexer": "ipython3",
   "version": "3.5.6"
  }
 },
 "nbformat": 4,
 "nbformat_minor": 2
}
