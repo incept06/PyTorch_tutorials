{
 "cells": [
  {
   "cell_type": "markdown",
   "metadata": {
    "colab_type": "text",
    "id": "lZWRC9x8DUSh"
   },
   "source": [
    "# Pytorch_basics"
   ]
  },
  {
   "cell_type": "markdown",
   "metadata": {},
   "source": [
    "Adapted from  Kaggle practice notebooks<Add the link here>"
   ]
  },
  {
   "cell_type": "code",
   "execution_count": 1,
   "metadata": {
    "colab": {},
    "colab_type": "code",
    "id": "QjQ93O8DBVLa"
   },
   "outputs": [],
   "source": [
    "# Essential imports\n",
    "import torch\n",
    "import numpy as np"
   ]
  },
  {
   "cell_type": "code",
   "execution_count": 2,
   "metadata": {},
   "outputs": [
    {
     "name": "stdout",
     "output_type": "stream",
     "text": [
      "Array Type: <class 'numpy.ndarray'>\n",
      "Array Shape: (2, 3)\n",
      "[[1 2 3]\n",
      " [4 5 6]]\n"
     ]
    }
   ],
   "source": [
    "# numpy array\n",
    "array = [[1,2,3],[4,5,6]]\n",
    "first_array = np.array(array) # 2x3 array\n",
    "print(\"Array Type: {}\".format(type(first_array))) # type\n",
    "print(\"Array Shape: {}\".format(np.shape(first_array))) # shape\n",
    "print(first_array)"
   ]
  },
  {
   "cell_type": "code",
   "execution_count": 3,
   "metadata": {},
   "outputs": [
    {
     "name": "stdout",
     "output_type": "stream",
     "text": [
      "Array Type: <built-in method type of Tensor object at 0x000001FD4175EAB0>\n",
      "Array Shape: torch.Size([2, 3])\n",
      "tensor([[1., 2., 3.],\n",
      "        [4., 5., 6.]])\n"
     ]
    }
   ],
   "source": [
    "# pytorch array\n",
    "tensor = torch.Tensor(array)\n",
    "print(\"Array Type: {}\".format(tensor.type)) # type\n",
    "print(\"Array Shape: {}\".format(tensor.shape)) # shape\n",
    "print(tensor)"
   ]
  },
  {
   "cell_type": "code",
   "execution_count": 4,
   "metadata": {},
   "outputs": [
    {
     "name": "stdout",
     "output_type": "stream",
     "text": [
      "Numpy [[1. 1. 1.]\n",
      " [1. 1. 1.]]\n",
      "\n",
      "tensor([[1., 1., 1.],\n",
      "        [1., 1., 1.]])\n"
     ]
    }
   ],
   "source": [
    "# numpy ones\n",
    "print(\"Numpy {}\\n\".format(np.ones((2,3))))\n",
    "\n",
    "# pytorch ones\n",
    "print(torch.ones((2,3)))"
   ]
  },
  {
   "cell_type": "code",
   "execution_count": 5,
   "metadata": {},
   "outputs": [
    {
     "name": "stdout",
     "output_type": "stream",
     "text": [
      "Numpy [[0.84528734 0.50226413 0.72462462]\n",
      " [0.03371716 0.77745834 0.24055968]]\n",
      "\n",
      "tensor([[0.6120, 0.7894, 0.6446],\n",
      "        [0.7442, 0.7028, 0.5795]])\n"
     ]
    }
   ],
   "source": [
    "# numpy random\n",
    "print(\"Numpy {}\\n\".format(np.random.rand(2,3)))\n",
    "\n",
    "# pytorch random\n",
    "print(torch.rand(2,3))"
   ]
  },
  {
   "cell_type": "code",
   "execution_count": 6,
   "metadata": {},
   "outputs": [
    {
     "name": "stdout",
     "output_type": "stream",
     "text": [
      "<class 'numpy.ndarray'> [[0.04345701 0.01102962]\n",
      " [0.69061835 0.65837278]]\n",
      "\n",
      "tensor([[0.0435, 0.0110],\n",
      "        [0.6906, 0.6584]], dtype=torch.float64)\n",
      "\n",
      "<class 'numpy.ndarray'> [[0.04345701 0.01102962]\n",
      " [0.69061835 0.65837278]]\n",
      "\n"
     ]
    }
   ],
   "source": [
    "# random numpy array\n",
    "array = np.random.rand(2,2)\n",
    "print(\"{} {}\\n\".format(type(array),array))\n",
    "\n",
    "# from numpy to tensor\n",
    "from_numpy_to_tensor = torch.from_numpy(array)\n",
    "print(\"{}\\n\".format(from_numpy_to_tensor))\n",
    "\n",
    "# from tensor to numpy\n",
    "tensor = from_numpy_to_tensor\n",
    "from_tensor_to_numpy = tensor.numpy()\n",
    "print(\"{} {}\\n\".format(type(from_tensor_to_numpy),from_tensor_to_numpy))"
   ]
  },
  {
   "cell_type": "markdown",
   "metadata": {},
   "source": [
    "\n",
    "Basic Math with Pytorch\n",
    "\n",
    "    Resize: view()\n",
    "    a and b are tensor.\n",
    "    Addition: torch.add(a,b) = a + b\n",
    "    Subtraction: a.sub(b) = a - b\n",
    "    Element wise multiplication: torch.mul(a,b) = a * b\n",
    "    Element wise division: torch.div(a,b) = a / b\n",
    "    Mean: a.mean()\n",
    "    Standart Deviation (std): a.std()\n",
    "\n"
   ]
  },
  {
   "cell_type": "code",
   "execution_count": 7,
   "metadata": {},
   "outputs": [
    {
     "name": "stdout",
     "output_type": "stream",
     "text": [
      "\n",
      " tensor([[1., 1., 1.],\n",
      "        [1., 1., 1.],\n",
      "        [1., 1., 1.]])\n",
      "torch.Size([9])tensor([1., 1., 1., 1., 1., 1., 1., 1., 1.])\n",
      "\n",
      "Addition: tensor([[2., 2., 2.],\n",
      "        [2., 2., 2.],\n",
      "        [2., 2., 2.]])\n",
      "\n",
      "Subtraction: tensor([[0., 0., 0.],\n",
      "        [0., 0., 0.],\n",
      "        [0., 0., 0.]])\n",
      "\n",
      "Element wise multiplication: tensor([[1., 1., 1.],\n",
      "        [1., 1., 1.],\n",
      "        [1., 1., 1.]])\n",
      "\n",
      "Element wise division: tensor([[1., 1., 1.],\n",
      "        [1., 1., 1.],\n",
      "        [1., 1., 1.]])\n",
      "\n",
      "Mean: 3.0\n",
      "std: 1.5811388492584229\n"
     ]
    }
   ],
   "source": [
    "# create tensor \n",
    "tensor = torch.ones(3,3)\n",
    "print(\"\\n\",tensor)\n",
    "\n",
    "# Resize\n",
    "print(\"{}{}\\n\".format(tensor.view(9).shape,tensor.view(9)))\n",
    "\n",
    "# Addition\n",
    "print(\"Addition: {}\\n\".format(torch.add(tensor,tensor)))\n",
    "\n",
    "# Subtraction\n",
    "print(\"Subtraction: {}\\n\".format(tensor.sub(tensor)))\n",
    "\n",
    "# Element wise multiplication\n",
    "print(\"Element wise multiplication: {}\\n\".format(torch.mul(tensor,tensor)))\n",
    "\n",
    "# Element wise division\n",
    "print(\"Element wise division: {}\\n\".format(torch.div(tensor,tensor)))\n",
    "\n",
    "# Mean\n",
    "tensor = torch.Tensor([1,2,3,4,5])\n",
    "print(\"Mean: {}\".format(tensor.mean()))\n",
    "\n",
    "# Standart deviation (std)\n",
    "print(\"std: {}\".format(tensor.std()))"
   ]
  },
  {
   "cell_type": "markdown",
   "metadata": {},
   "source": [
    "### Take down below content to different notebook as practice items"
   ]
  },
  {
   "cell_type": "code",
   "execution_count": 2,
   "metadata": {
    "colab": {
     "base_uri": "https://localhost:8080/",
     "height": 53
    },
    "colab_type": "code",
    "id": "IBgN1PyQbItd",
    "outputId": "84622482-fd40-4bf2-b1bf-f4b68fec6bdb"
   },
   "outputs": [
    {
     "name": "stdout",
     "output_type": "stream",
     "text": [
      "t1:  tensor([1., 2., 3., 4., 5.], dtype=torch.float64)\n",
      "t2:  tensor([5., 6., 7., 8., 9.], dtype=torch.float16)\n"
     ]
    }
   ],
   "source": [
    "# torch.tensor\n",
    "t1 = torch.tensor([1., 2., 3., 4., 5.], dtype=torch.float64)\n",
    "t2 = torch.tensor([5., 6., 7., 8., 9.], dtype=torch.float16)\n",
    "\n",
    "print ('t1: ', t1)\n",
    "print ('t2: ', t2)"
   ]
  },
  {
   "cell_type": "code",
   "execution_count": 3,
   "metadata": {
    "colab": {
     "base_uri": "https://localhost:8080/",
     "height": 53
    },
    "colab_type": "code",
    "id": "53cm8L49BhmR",
    "outputId": "cc1ca275-0ec0-4aa5-e66c-b35f1853cb6f"
   },
   "outputs": [
    {
     "name": "stdout",
     "output_type": "stream",
     "text": [
      "True\n",
      "False\n"
     ]
    }
   ],
   "source": [
    "# torch.is_tensor \n",
    "t1 = torch.tensor([1, 2, 3, 4, 5])\n",
    "t2 = [1, 2, 3, 4, 5]\n",
    "\n",
    "print (torch.is_tensor(t1))\n",
    "print (torch.is_tensor(t2))"
   ]
  },
  {
   "cell_type": "code",
   "execution_count": 4,
   "metadata": {
    "colab": {
     "base_uri": "https://localhost:8080/",
     "height": 53
    },
    "colab_type": "code",
    "id": "u0SCF1hsC6OU",
    "outputId": "49ea966b-5c16-48f9-9070-37aaa23b1749"
   },
   "outputs": [
    {
     "name": "stdout",
     "output_type": "stream",
     "text": [
      "True\n",
      "False\n"
     ]
    }
   ],
   "source": [
    "# torch,is_storage\n",
    "s1 = torch.FloatStorage(128)\n",
    "s2 = np.float(128)\n",
    "\n",
    "print (torch.is_storage(s1))\n",
    "print (torch.is_storage(s2))"
   ]
  },
  {
   "cell_type": "code",
   "execution_count": 5,
   "metadata": {
    "colab": {
     "base_uri": "https://localhost:8080/",
     "height": 53
    },
    "colab_type": "code",
    "id": "LFIFdrM5EKzC",
    "outputId": "7ba3f20f-8736-4251-e488-4e28f90a9ad2"
   },
   "outputs": [
    {
     "name": "stdout",
     "output_type": "stream",
     "text": [
      "The default type is:  torch.float32\n",
      "Now the default dtype is:  torch.float64\n"
     ]
    }
   ],
   "source": [
    "# torch.set_default_type\n",
    "# Sets the default torch.tensor() type to a floating point tensor type\n",
    "\n",
    "t1 = torch.tensor([1., 2., 3])\n",
    "\n",
    "print ('The default type is: ', t1.dtype)\n",
    "\n",
    "torch.set_default_dtype(torch.float64)\n",
    "\n",
    "t2 = torch.tensor([1., 2., 3])\n",
    "\n",
    "print ('Now the default dtype is: ', t2.dtype)"
   ]
  },
  {
   "cell_type": "code",
   "execution_count": 6,
   "metadata": {
    "colab": {
     "base_uri": "https://localhost:8080/",
     "height": 71
    },
    "colab_type": "code",
    "id": "riVnovFNEnxZ",
    "outputId": "4ba7134d-6b76-44f6-c307-05a99278675a"
   },
   "outputs": [
    {
     "name": "stdout",
     "output_type": "stream",
     "text": [
      "The default dtype is:  torch.float64\n",
      "The default dtype now is:  torch.float16\n",
      "The default dtype now is:  torch.float64\n"
     ]
    }
   ],
   "source": [
    "# torch.get_default_dtype\n",
    "# Returns the current default floating point\n",
    "\n",
    "print ('The default dtype is: ', torch.get_default_dtype())\n",
    "\n",
    "torch.set_default_dtype(torch.float16)\n",
    "print ('The default dtype now is: ', torch.get_default_dtype())\n",
    "\n",
    "torch.set_default_dtype(torch.float64)\n",
    "print ('The default dtype now is: ', torch.get_default_dtype())\n",
    "\n",
    "# Cannot set the default type to non-float type\n",
    "#torch.set_default_dtype(torch.int16)\n",
    "#print ('The default dtype now is: ', torch.get_default_dtype())"
   ]
  },
  {
   "cell_type": "code",
   "execution_count": 7,
   "metadata": {
    "colab": {
     "base_uri": "https://localhost:8080/",
     "height": 71
    },
    "colab_type": "code",
    "id": "XsNJPkNHGIhV",
    "outputId": "cd3552b6-f30e-4102-b5a0-5deb941e85f8"
   },
   "outputs": [
    {
     "name": "stdout",
     "output_type": "stream",
     "text": [
      "The default dtype is:  torch.float64\n",
      "The default dtype now is:  torch.float32\n",
      "The default dtype now is:  torch.float64\n"
     ]
    }
   ],
   "source": [
    "# torch.set_default_tensor_type\n",
    "# Sets the default torch.tensor() type to a floating point tensor type\n",
    "\n",
    "print ('The default dtype is: ', torch.get_default_dtype())\n",
    "\n",
    "torch.set_default_tensor_type(torch.FloatTensor)\n",
    "print ('The default dtype now is: ', torch.get_default_dtype())\n",
    "\n",
    "torch.set_default_tensor_type(torch.DoubleTensor)\n",
    "print ('The default dtype now is: ', torch.get_default_dtype())"
   ]
  },
  {
   "cell_type": "code",
   "execution_count": 8,
   "metadata": {
    "colab": {
     "base_uri": "https://localhost:8080/",
     "height": 53
    },
    "colab_type": "code",
    "id": "VIIJiXEMJ0fm",
    "outputId": "09d509f2-a77a-4719-ce7c-b1e2ab8f2f78"
   },
   "outputs": [
    {
     "name": "stdout",
     "output_type": "stream",
     "text": [
      "The number of elements in t1:  20\n",
      "The number of elements in t2:  40\n"
     ]
    }
   ],
   "source": [
    "# torch.numel\n",
    "# Returns the total number of elements in the tensor\n",
    "\n",
    "t1 = torch.randn(4, 5)\n",
    "print ('The number of elements in t1: ', t1.numel())\n",
    "\n",
    "t2 = torch.randn(5, 4, 2)\n",
    "print ('The number of elements in t2: ', t2.numel())"
   ]
  },
  {
   "cell_type": "code",
   "execution_count": null,
   "metadata": {
    "colab": {},
    "colab_type": "code",
    "id": "YP_8_PKRMMQE"
   },
   "outputs": [],
   "source": [
    "# torch.set_printoptions\n",
    "# Helps set the options for printing"
   ]
  },
  {
   "cell_type": "code",
   "execution_count": 9,
   "metadata": {
    "colab": {
     "base_uri": "https://localhost:8080/",
     "height": 53
    },
    "colab_type": "code",
    "id": "_TIJ4PzTNxr7",
    "outputId": "e4f886c5-5ccd-4b75-864a-d46bd64b38b5"
   },
   "outputs": [
    {
     "name": "stdout",
     "output_type": "stream",
     "text": [
      "t1:  tensor([0.0000, 0.0000, 0.0000])\n",
      "t2:  tensor([9.8813e-324, 1.0000e-235, 1.0000e-121])\n"
     ]
    }
   ],
   "source": [
    "# torch.set_flush_denormal\n",
    "# Disables denormal floating numbers on CPU\n",
    "\n",
    "torch.set_flush_denormal(True)\n",
    "t1 = torch.tensor([1e-323, 1e-235, 1e-121], dtype=torch.float64)\n",
    "print ('t1: ', t1)\n",
    "\n",
    "torch.set_flush_denormal(False)\n",
    "t2 = torch.tensor([1e-323, 1e-235, 1e-121], dtype=torch.float64)\n",
    "print ('t2: ', t2)"
   ]
  }
 ],
 "metadata": {
  "colab": {
   "name": "001_pytorch_basics.ipynb",
   "provenance": [],
   "version": "0.3.2"
  },
  "kernelspec": {
   "display_name": "Python [default]",
   "language": "python",
   "name": "python3"
  },
  "language_info": {
   "codemirror_mode": {
    "name": "ipython",
    "version": 3
   },
   "file_extension": ".py",
   "mimetype": "text/x-python",
   "name": "python",
   "nbconvert_exporter": "python",
   "pygments_lexer": "ipython3",
   "version": "3.5.6"
  }
 },
 "nbformat": 4,
 "nbformat_minor": 2
}
