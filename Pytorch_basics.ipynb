{
 "cells": [
  {
   "cell_type": "markdown",
   "metadata": {
    "colab_type": "text",
    "id": "lZWRC9x8DUSh"
   },
   "source": [
    "# Pytorch_basics"
   ]
  },
  {
   "cell_type": "markdown",
   "metadata": {},
   "source": [
    "Adapted from <Add the link here>"
   ]
  },
  {
   "cell_type": "code",
   "execution_count": 1,
   "metadata": {
    "colab": {},
    "colab_type": "code",
    "id": "QjQ93O8DBVLa"
   },
   "outputs": [],
   "source": [
    "# Essential imports\n",
    "import torch\n",
    "import numpy as np"
   ]
  },
  {
   "cell_type": "code",
   "execution_count": 2,
   "metadata": {
    "colab": {
     "base_uri": "https://localhost:8080/",
     "height": 53
    },
    "colab_type": "code",
    "id": "IBgN1PyQbItd",
    "outputId": "84622482-fd40-4bf2-b1bf-f4b68fec6bdb"
   },
   "outputs": [
    {
     "name": "stdout",
     "output_type": "stream",
     "text": [
      "t1:  tensor([1., 2., 3., 4., 5.], dtype=torch.float64)\n",
      "t2:  tensor([5., 6., 7., 8., 9.], dtype=torch.float16)\n"
     ]
    }
   ],
   "source": [
    "# torch.tensor\n",
    "t1 = torch.tensor([1., 2., 3., 4., 5.], dtype=torch.float64)\n",
    "t2 = torch.tensor([5., 6., 7., 8., 9.], dtype=torch.float16)\n",
    "\n",
    "print ('t1: ', t1)\n",
    "print ('t2: ', t2)"
   ]
  },
  {
   "cell_type": "code",
   "execution_count": 3,
   "metadata": {
    "colab": {
     "base_uri": "https://localhost:8080/",
     "height": 53
    },
    "colab_type": "code",
    "id": "53cm8L49BhmR",
    "outputId": "cc1ca275-0ec0-4aa5-e66c-b35f1853cb6f"
   },
   "outputs": [
    {
     "name": "stdout",
     "output_type": "stream",
     "text": [
      "True\n",
      "False\n"
     ]
    }
   ],
   "source": [
    "# torch.is_tensor \n",
    "t1 = torch.tensor([1, 2, 3, 4, 5])\n",
    "t2 = [1, 2, 3, 4, 5]\n",
    "\n",
    "print (torch.is_tensor(t1))\n",
    "print (torch.is_tensor(t2))"
   ]
  },
  {
   "cell_type": "code",
   "execution_count": 4,
   "metadata": {
    "colab": {
     "base_uri": "https://localhost:8080/",
     "height": 53
    },
    "colab_type": "code",
    "id": "u0SCF1hsC6OU",
    "outputId": "49ea966b-5c16-48f9-9070-37aaa23b1749"
   },
   "outputs": [
    {
     "name": "stdout",
     "output_type": "stream",
     "text": [
      "True\n",
      "False\n"
     ]
    }
   ],
   "source": [
    "# torch,is_storage\n",
    "s1 = torch.FloatStorage(128)\n",
    "s2 = np.float(128)\n",
    "\n",
    "print (torch.is_storage(s1))\n",
    "print (torch.is_storage(s2))"
   ]
  },
  {
   "cell_type": "code",
   "execution_count": 5,
   "metadata": {
    "colab": {
     "base_uri": "https://localhost:8080/",
     "height": 53
    },
    "colab_type": "code",
    "id": "LFIFdrM5EKzC",
    "outputId": "7ba3f20f-8736-4251-e488-4e28f90a9ad2"
   },
   "outputs": [
    {
     "name": "stdout",
     "output_type": "stream",
     "text": [
      "The default type is:  torch.float32\n",
      "Now the default dtype is:  torch.float64\n"
     ]
    }
   ],
   "source": [
    "# torch.set_default_type\n",
    "# Sets the default torch.tensor() type to a floating point tensor type\n",
    "\n",
    "t1 = torch.tensor([1., 2., 3])\n",
    "\n",
    "print ('The default type is: ', t1.dtype)\n",
    "\n",
    "torch.set_default_dtype(torch.float64)\n",
    "\n",
    "t2 = torch.tensor([1., 2., 3])\n",
    "\n",
    "print ('Now the default dtype is: ', t2.dtype)"
   ]
  },
  {
   "cell_type": "code",
   "execution_count": 6,
   "metadata": {
    "colab": {
     "base_uri": "https://localhost:8080/",
     "height": 71
    },
    "colab_type": "code",
    "id": "riVnovFNEnxZ",
    "outputId": "4ba7134d-6b76-44f6-c307-05a99278675a"
   },
   "outputs": [
    {
     "name": "stdout",
     "output_type": "stream",
     "text": [
      "The default dtype is:  torch.float64\n",
      "The default dtype now is:  torch.float16\n",
      "The default dtype now is:  torch.float64\n"
     ]
    }
   ],
   "source": [
    "# torch.get_default_dtype\n",
    "# Returns the current default floating point\n",
    "\n",
    "print ('The default dtype is: ', torch.get_default_dtype())\n",
    "\n",
    "torch.set_default_dtype(torch.float16)\n",
    "print ('The default dtype now is: ', torch.get_default_dtype())\n",
    "\n",
    "torch.set_default_dtype(torch.float64)\n",
    "print ('The default dtype now is: ', torch.get_default_dtype())\n",
    "\n",
    "# Cannot set the default type to non-float type\n",
    "#torch.set_default_dtype(torch.int16)\n",
    "#print ('The default dtype now is: ', torch.get_default_dtype())"
   ]
  },
  {
   "cell_type": "code",
   "execution_count": 7,
   "metadata": {
    "colab": {
     "base_uri": "https://localhost:8080/",
     "height": 71
    },
    "colab_type": "code",
    "id": "XsNJPkNHGIhV",
    "outputId": "cd3552b6-f30e-4102-b5a0-5deb941e85f8"
   },
   "outputs": [
    {
     "name": "stdout",
     "output_type": "stream",
     "text": [
      "The default dtype is:  torch.float64\n",
      "The default dtype now is:  torch.float32\n",
      "The default dtype now is:  torch.float64\n"
     ]
    }
   ],
   "source": [
    "# torch.set_default_tensor_type\n",
    "# Sets the default torch.tensor() type to a floating point tensor type\n",
    "\n",
    "print ('The default dtype is: ', torch.get_default_dtype())\n",
    "\n",
    "torch.set_default_tensor_type(torch.FloatTensor)\n",
    "print ('The default dtype now is: ', torch.get_default_dtype())\n",
    "\n",
    "torch.set_default_tensor_type(torch.DoubleTensor)\n",
    "print ('The default dtype now is: ', torch.get_default_dtype())"
   ]
  },
  {
   "cell_type": "code",
   "execution_count": 8,
   "metadata": {
    "colab": {
     "base_uri": "https://localhost:8080/",
     "height": 53
    },
    "colab_type": "code",
    "id": "VIIJiXEMJ0fm",
    "outputId": "09d509f2-a77a-4719-ce7c-b1e2ab8f2f78"
   },
   "outputs": [
    {
     "name": "stdout",
     "output_type": "stream",
     "text": [
      "The number of elements in t1:  20\n",
      "The number of elements in t2:  40\n"
     ]
    }
   ],
   "source": [
    "# torch.numel\n",
    "# Returns the total number of elements in the tensor\n",
    "\n",
    "t1 = torch.randn(4, 5)\n",
    "print ('The number of elements in t1: ', t1.numel())\n",
    "\n",
    "t2 = torch.randn(5, 4, 2)\n",
    "print ('The number of elements in t2: ', t2.numel())"
   ]
  },
  {
   "cell_type": "code",
   "execution_count": null,
   "metadata": {
    "colab": {},
    "colab_type": "code",
    "id": "YP_8_PKRMMQE"
   },
   "outputs": [],
   "source": [
    "# torch.set_printoptions\n",
    "# Helps set the options for printing"
   ]
  },
  {
   "cell_type": "code",
   "execution_count": 9,
   "metadata": {
    "colab": {
     "base_uri": "https://localhost:8080/",
     "height": 53
    },
    "colab_type": "code",
    "id": "_TIJ4PzTNxr7",
    "outputId": "e4f886c5-5ccd-4b75-864a-d46bd64b38b5"
   },
   "outputs": [
    {
     "name": "stdout",
     "output_type": "stream",
     "text": [
      "t1:  tensor([0.0000, 0.0000, 0.0000])\n",
      "t2:  tensor([9.8813e-324, 1.0000e-235, 1.0000e-121])\n"
     ]
    }
   ],
   "source": [
    "# torch.set_flush_denormal\n",
    "# Disables denormal floating numbers on CPU\n",
    "\n",
    "torch.set_flush_denormal(True)\n",
    "t1 = torch.tensor([1e-323, 1e-235, 1e-121], dtype=torch.float64)\n",
    "print ('t1: ', t1)\n",
    "\n",
    "torch.set_flush_denormal(False)\n",
    "t2 = torch.tensor([1e-323, 1e-235, 1e-121], dtype=torch.float64)\n",
    "print ('t2: ', t2)"
   ]
  }
 ],
 "metadata": {
  "colab": {
   "name": "001_pytorch_basics.ipynb",
   "provenance": [],
   "version": "0.3.2"
  },
  "kernelspec": {
   "display_name": "Python [default]",
   "language": "python",
   "name": "python3"
  },
  "language_info": {
   "codemirror_mode": {
    "name": "ipython",
    "version": 3
   },
   "file_extension": ".py",
   "mimetype": "text/x-python",
   "name": "python",
   "nbconvert_exporter": "python",
   "pygments_lexer": "ipython3",
   "version": "3.5.6"
  }
 },
 "nbformat": 4,
 "nbformat_minor": 2
}
